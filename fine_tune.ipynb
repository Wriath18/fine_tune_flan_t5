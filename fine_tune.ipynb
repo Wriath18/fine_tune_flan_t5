{
 "cells": [
  {
   "cell_type": "code",
   "execution_count": 3,
   "metadata": {},
   "outputs": [
    {
     "name": "stdout",
     "output_type": "stream",
     "text": [
      "Collecting git+https://github.com/lvwerra/trl.git@25fa1bd\n",
      "  Cloning https://github.com/lvwerra/trl.git (to revision 25fa1bd) to c:\\users\\sanid\\appdata\\local\\temp\\pip-req-build-91abnkl2\n",
      "  Resolved https://github.com/lvwerra/trl.git to commit 25fa1bd\n",
      "  Preparing metadata (setup.py): started\n",
      "  Preparing metadata (setup.py): finished with status 'done'\n",
      "Requirement already satisfied: torch>=1.4.0 in c:\\users\\sanid\\appdata\\local\\programs\\python\\python310\\lib\\site-packages (from trl==0.4.2.dev0) (1.13.1)\n",
      "Requirement already satisfied: transformers>=4.18.0 in c:\\users\\sanid\\appdata\\local\\programs\\python\\python310\\lib\\site-packages (from trl==0.4.2.dev0) (4.27.2)\n",
      "Requirement already satisfied: numpy>=1.18.2 in c:\\users\\sanid\\appdata\\local\\programs\\python\\python310\\lib\\site-packages (from trl==0.4.2.dev0) (1.23.5)\n",
      "Requirement already satisfied: accelerate in c:\\users\\sanid\\appdata\\local\\programs\\python\\python310\\lib\\site-packages (from trl==0.4.2.dev0) (0.24.1)\n",
      "Requirement already satisfied: datasets in c:\\users\\sanid\\appdata\\local\\programs\\python\\python310\\lib\\site-packages (from trl==0.4.2.dev0) (2.17.0)\n",
      "Requirement already satisfied: typing-extensions in c:\\users\\sanid\\appdata\\local\\programs\\python\\python310\\lib\\site-packages (from torch>=1.4.0->trl==0.4.2.dev0) (4.8.0)\n",
      "Requirement already satisfied: filelock in c:\\users\\sanid\\appdata\\local\\programs\\python\\python310\\lib\\site-packages (from transformers>=4.18.0->trl==0.4.2.dev0) (3.12.3)\n",
      "Requirement already satisfied: huggingface-hub<1.0,>=0.11.0 in c:\\users\\sanid\\appdata\\local\\programs\\python\\python310\\lib\\site-packages (from transformers>=4.18.0->trl==0.4.2.dev0) (0.21.4)\n",
      "Requirement already satisfied: packaging>=20.0 in c:\\users\\sanid\\appdata\\local\\programs\\python\\python310\\lib\\site-packages (from transformers>=4.18.0->trl==0.4.2.dev0) (23.2)\n",
      "Requirement already satisfied: pyyaml>=5.1 in c:\\users\\sanid\\appdata\\local\\programs\\python\\python310\\lib\\site-packages (from transformers>=4.18.0->trl==0.4.2.dev0) (6.0.1)\n",
      "Requirement already satisfied: regex!=2019.12.17 in c:\\users\\sanid\\appdata\\local\\programs\\python\\python310\\lib\\site-packages (from transformers>=4.18.0->trl==0.4.2.dev0) (2022.10.31)\n",
      "Requirement already satisfied: requests in c:\\users\\sanid\\appdata\\local\\programs\\python\\python310\\lib\\site-packages (from transformers>=4.18.0->trl==0.4.2.dev0) (2.31.0)\n",
      "Requirement already satisfied: tokenizers!=0.11.3,<0.14,>=0.11.1 in c:\\users\\sanid\\appdata\\local\\programs\\python\\python310\\lib\\site-packages (from transformers>=4.18.0->trl==0.4.2.dev0) (0.13.3)\n",
      "Requirement already satisfied: tqdm>=4.27 in c:\\users\\sanid\\appdata\\local\\programs\\python\\python310\\lib\\site-packages (from transformers>=4.18.0->trl==0.4.2.dev0) (4.66.1)\n",
      "Requirement already satisfied: psutil in c:\\users\\sanid\\appdata\\local\\programs\\python\\python310\\lib\\site-packages (from accelerate->trl==0.4.2.dev0) (5.9.5)\n",
      "Requirement already satisfied: pyarrow>=12.0.0 in c:\\users\\sanid\\appdata\\local\\programs\\python\\python310\\lib\\site-packages (from datasets->trl==0.4.2.dev0) (13.0.0)\n",
      "Requirement already satisfied: pyarrow-hotfix in c:\\users\\sanid\\appdata\\local\\programs\\python\\python310\\lib\\site-packages (from datasets->trl==0.4.2.dev0) (0.6)\n",
      "Requirement already satisfied: dill<0.3.9,>=0.3.0 in c:\\users\\sanid\\appdata\\local\\programs\\python\\python310\\lib\\site-packages (from datasets->trl==0.4.2.dev0) (0.3.7)\n",
      "Requirement already satisfied: pandas in c:\\users\\sanid\\appdata\\local\\programs\\python\\python310\\lib\\site-packages (from datasets->trl==0.4.2.dev0) (2.2.1)\n",
      "Requirement already satisfied: xxhash in c:\\users\\sanid\\appdata\\local\\programs\\python\\python310\\lib\\site-packages (from datasets->trl==0.4.2.dev0) (3.3.0)\n",
      "Requirement already satisfied: multiprocess in c:\\users\\sanid\\appdata\\local\\programs\\python\\python310\\lib\\site-packages (from datasets->trl==0.4.2.dev0) (0.70.15)\n",
      "Requirement already satisfied: fsspec<=2023.10.0,>=2023.1.0 in c:\\users\\sanid\\appdata\\local\\programs\\python\\python310\\lib\\site-packages (from fsspec[http]<=2023.10.0,>=2023.1.0->datasets->trl==0.4.2.dev0) (2023.10.0)\n",
      "Requirement already satisfied: aiohttp in c:\\users\\sanid\\appdata\\local\\programs\\python\\python310\\lib\\site-packages (from datasets->trl==0.4.2.dev0) (3.8.5)\n",
      "Requirement already satisfied: attrs>=17.3.0 in c:\\users\\sanid\\appdata\\roaming\\python\\python310\\site-packages (from aiohttp->datasets->trl==0.4.2.dev0) (23.1.0)\n",
      "Requirement already satisfied: charset-normalizer<4.0,>=2.0 in c:\\users\\sanid\\appdata\\local\\programs\\python\\python310\\lib\\site-packages (from aiohttp->datasets->trl==0.4.2.dev0) (3.2.0)\n",
      "Requirement already satisfied: multidict<7.0,>=4.5 in c:\\users\\sanid\\appdata\\local\\programs\\python\\python310\\lib\\site-packages (from aiohttp->datasets->trl==0.4.2.dev0) (5.2.0)\n",
      "Requirement already satisfied: async-timeout<5.0,>=4.0.0a3 in c:\\users\\sanid\\appdata\\local\\programs\\python\\python310\\lib\\site-packages (from aiohttp->datasets->trl==0.4.2.dev0) (4.0.3)\n",
      "Requirement already satisfied: yarl<2.0,>=1.0 in c:\\users\\sanid\\appdata\\local\\programs\\python\\python310\\lib\\site-packages (from aiohttp->datasets->trl==0.4.2.dev0) (1.9.2)\n",
      "Requirement already satisfied: frozenlist>=1.1.1 in c:\\users\\sanid\\appdata\\local\\programs\\python\\python310\\lib\\site-packages (from aiohttp->datasets->trl==0.4.2.dev0) (1.4.0)\n",
      "Requirement already satisfied: aiosignal>=1.1.2 in c:\\users\\sanid\\appdata\\local\\programs\\python\\python310\\lib\\site-packages (from aiohttp->datasets->trl==0.4.2.dev0) (1.3.1)\n",
      "Requirement already satisfied: idna<4,>=2.5 in c:\\users\\sanid\\appdata\\local\\programs\\python\\python310\\lib\\site-packages (from requests->transformers>=4.18.0->trl==0.4.2.dev0) (2.10)\n",
      "Requirement already satisfied: urllib3<3,>=1.21.1 in c:\\users\\sanid\\appdata\\local\\programs\\python\\python310\\lib\\site-packages (from requests->transformers>=4.18.0->trl==0.4.2.dev0) (1.26.6)\n",
      "Requirement already satisfied: certifi>=2017.4.17 in c:\\users\\sanid\\appdata\\local\\programs\\python\\python310\\lib\\site-packages (from requests->transformers>=4.18.0->trl==0.4.2.dev0) (2021.5.30)\n",
      "Requirement already satisfied: colorama in c:\\users\\sanid\\appdata\\local\\programs\\python\\python310\\lib\\site-packages (from tqdm>=4.27->transformers>=4.18.0->trl==0.4.2.dev0) (0.4.6)\n",
      "Requirement already satisfied: python-dateutil>=2.8.2 in c:\\users\\sanid\\appdata\\local\\programs\\python\\python310\\lib\\site-packages (from pandas->datasets->trl==0.4.2.dev0) (2.8.2)\n",
      "Requirement already satisfied: pytz>=2020.1 in c:\\users\\sanid\\appdata\\local\\programs\\python\\python310\\lib\\site-packages (from pandas->datasets->trl==0.4.2.dev0) (2022.7.1)\n",
      "Requirement already satisfied: tzdata>=2022.7 in c:\\users\\sanid\\appdata\\local\\programs\\python\\python310\\lib\\site-packages (from pandas->datasets->trl==0.4.2.dev0) (2023.3)\n",
      "Requirement already satisfied: six>=1.5 in c:\\users\\sanid\\appdata\\local\\programs\\python\\python310\\lib\\site-packages (from python-dateutil>=2.8.2->pandas->datasets->trl==0.4.2.dev0) (1.16.0)\n",
      "Building wheels for collected packages: trl\n",
      "  Building wheel for trl (setup.py): started\n",
      "  Building wheel for trl (setup.py): finished with status 'done'\n",
      "  Created wheel for trl: filename=trl-0.4.2.dev0-py3-none-any.whl size=67957 sha256=488fe0466d625be0dcc7067f3a695b03cc8b882cd210f37654c55da025e27334\n",
      "  Stored in directory: C:\\Users\\sanid\\AppData\\Local\\Temp\\pip-ephem-wheel-cache-mjvozrb5\\wheels\\24\\b4\\20\\2fa3a1e47c0411c39e198029315e3af2a2c1d59132913f136f\n",
      "Successfully built trl\n",
      "Installing collected packages: trl\n",
      "Successfully installed trl-0.4.2.dev0\n",
      "Note: you may need to restart the kernel to use updated packages.\n"
     ]
    },
    {
     "name": "stderr",
     "output_type": "stream",
     "text": [
      "  Running command git clone --filter=blob:none --quiet https://github.com/lvwerra/trl.git 'C:\\Users\\sanid\\AppData\\Local\\Temp\\pip-req-build-91abnkl2'\n",
      "  WARNING: Did not find branch or tag '25fa1bd', assuming revision or ref.\n",
      "  Running command git checkout -q 25fa1bd\n"
     ]
    }
   ],
   "source": [
    "%pip install git+https://github.com/lvwerra/trl.git@25fa1bd  "
   ]
  },
  {
   "cell_type": "code",
   "execution_count": 1,
   "metadata": {},
   "outputs": [],
   "source": [
    "from transformers import pipeline, AutoTokenizer, AutoModelForSequenceClassification, AutoModelForSeq2SeqLM, GenerationConfig\n",
    "from datasets import load_dataset\n",
    "from peft import PeftModel, PeftConfig, LoraConfig, TaskType"
   ]
  },
  {
   "cell_type": "code",
   "execution_count": 4,
   "metadata": {},
   "outputs": [],
   "source": [
    "from trl import PPOTrainer, PPOConfig, AutoModelForSeq2SeqLMWithValueHead\n",
    "from trl import create_reference_model\n",
    "from trl.core import LengthSampler\n",
    "\n",
    "import torch\n",
    "import evaluate\n",
    "\n",
    "import numpy as np\n",
    "import pandas as pd\n",
    "\n",
    "# tqdm library makes the loops show a smart progress meter.\n",
    "from tqdm import tqdm\n",
    "tqdm.pandas()"
   ]
  },
  {
   "cell_type": "code",
   "execution_count": 6,
   "metadata": {},
   "outputs": [
    {
     "data": {
      "text/plain": [
       "DatasetDict({\n",
       "    train: Dataset({\n",
       "        features: ['id', 'dialogue', 'summary', 'topic'],\n",
       "        num_rows: 12460\n",
       "    })\n",
       "    validation: Dataset({\n",
       "        features: ['id', 'dialogue', 'summary', 'topic'],\n",
       "        num_rows: 500\n",
       "    })\n",
       "    test: Dataset({\n",
       "        features: ['id', 'dialogue', 'summary', 'topic'],\n",
       "        num_rows: 1500\n",
       "    })\n",
       "})"
      ]
     },
     "execution_count": 6,
     "metadata": {},
     "output_type": "execute_result"
    }
   ],
   "source": [
    "model_name = \"google/flan-t5-base\"\n",
    "huggingface_dataset = \"knkarthick/dialogsum\"\n",
    "dataset_original = load_dataset(huggingface_dataset)\n",
    "dataset_original"
   ]
  },
  {
   "cell_type": "code",
   "execution_count": 7,
   "metadata": {},
   "outputs": [
    {
     "data": {
      "application/vnd.jupyter.widget-view+json": {
       "model_id": "ec1b2d73cd9c4f8cb7ff0ffee0da2636",
       "version_major": 2,
       "version_minor": 0
      },
      "text/plain": [
       "Filter:   0%|          | 0/12460 [00:00<?, ? examples/s]"
      ]
     },
     "metadata": {},
     "output_type": "display_data"
    },
    {
     "data": {
      "application/vnd.jupyter.widget-view+json": {
       "model_id": "69b47e93303140f28c0fe253a3cd8805",
       "version_major": 2,
       "version_minor": 0
      },
      "text/plain": [
       "Map:   0%|          | 0/10022 [00:00<?, ? examples/s]"
      ]
     },
     "metadata": {},
     "output_type": "display_data"
    },
    {
     "name": "stdout",
     "output_type": "stream",
     "text": [
      "DatasetDict({\n",
      "    train: Dataset({\n",
      "        features: ['id', 'dialogue', 'summary', 'topic', 'input_ids', 'query'],\n",
      "        num_rows: 8017\n",
      "    })\n",
      "    test: Dataset({\n",
      "        features: ['id', 'dialogue', 'summary', 'topic', 'input_ids', 'query'],\n",
      "        num_rows: 2005\n",
      "    })\n",
      "})\n"
     ]
    }
   ],
   "source": [
    "def build_dataset(model_name,\n",
    "                  dataset_name,\n",
    "                  input_min_text_length, \n",
    "                  input_max_text_length):\n",
    "\n",
    "    \"\"\"\n",
    "    Preprocess the dataset and split it into train and test parts.\n",
    "\n",
    "    Parameters:\n",
    "    - model_name (str): Tokenizer model name.\n",
    "    - dataset_name (str): Name of the dataset to load.\n",
    "    - input_min_text_length (int): Minimum length of the dialogues.\n",
    "    - input_max_text_length (int): Maximum length of the dialogues.\n",
    "        \n",
    "    Returns:\n",
    "    - dataset_splits (datasets.dataset_dict.DatasetDict): Preprocessed dataset containing train and test parts.\n",
    "    \"\"\"\n",
    "    dataset = load_dataset(dataset_name, split=\"train\")\n",
    "    dataset = dataset.filter(lambda x: len(x[\"dialogue\"]) > input_min_text_length and len(x[\"dialogue\"]) <= input_max_text_length, batched=False)\n",
    "    tokenizer = AutoTokenizer.from_pretrained(model_name, device_map=\"auto\")\n",
    "    \n",
    "    def tokenize(sample):\n",
    "        prompt = f\"\"\"\n",
    "Summarize the following conversation.\n",
    "\n",
    "{sample[\"dialogue\"]}\n",
    "\n",
    "Summary:\n",
    "\"\"\"\n",
    "        sample[\"input_ids\"] = tokenizer.encode(prompt)\n",
    "        sample[\"query\"] = tokenizer.decode(sample[\"input_ids\"])\n",
    "        return sample\n",
    "    dataset = dataset.map(tokenize, batched=False)\n",
    "    dataset.set_format(type=\"torch\")\n",
    "    \n",
    "    dataset_splits = dataset.train_test_split(test_size=0.2, shuffle=False, seed=42)\n",
    "\n",
    "    return dataset_splits\n",
    "\n",
    "dataset = build_dataset(model_name=model_name, dataset_name=huggingface_dataset, input_max_text_length=1000, input_min_text_length=200)\n",
    "\n",
    "print(dataset)"
   ]
  },
  {
   "cell_type": "code",
   "execution_count": null,
   "metadata": {},
   "outputs": [],
   "source": []
  }
 ],
 "metadata": {
  "kernelspec": {
   "display_name": "Python 3",
   "language": "python",
   "name": "python3"
  },
  "language_info": {
   "codemirror_mode": {
    "name": "ipython",
    "version": 3
   },
   "file_extension": ".py",
   "mimetype": "text/x-python",
   "name": "python",
   "nbconvert_exporter": "python",
   "pygments_lexer": "ipython3",
   "version": "3.10.11"
  }
 },
 "nbformat": 4,
 "nbformat_minor": 2
}
